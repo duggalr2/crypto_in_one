{
 "cells": [
  {
   "cell_type": "code",
   "execution_count": 1,
   "metadata": {
    "collapsed": false
   },
   "outputs": [],
   "source": [
    "from pprint import pprint\n",
    "import pandas as pd \n",
    "import sqlite3\n",
    "from sklearn.feature_extraction.text import CountVectorizer\n",
    "from sklearn.metrics import classification_report\n",
    "from sklearn.model_selection import train_test_split\n",
    "from sklearn.naive_bayes import MultinomialNB, GaussianNB\n",
    "from sklearn import metrics\n",
    "from sklearn.model_selection import cross_val_score"
   ]
  },
  {
   "cell_type": "code",
   "execution_count": 2,
   "metadata": {
    "collapsed": false
   },
   "outputs": [],
   "source": [
    "conn = sqlite3.connect('/Users/Rahul/Desktop/Side_projects/crypto_in_one/db.sqlite3', check_same_thread=False)\n",
    "c = conn.cursor()\n",
    "c.execute('SELECT title FROM crypto_feeddetail')\n",
    "feed_list = [title[0] for title in c.fetchall()]"
   ]
  },
  {
   "cell_type": "code",
   "execution_count": 3,
   "metadata": {
    "collapsed": false
   },
   "outputs": [
    {
     "name": "stdout",
     "output_type": "stream",
     "text": [
      "General Accuracy: 0.925836844846\n"
     ]
    }
   ],
   "source": [
    "filename = 'uci_news.csv'\n",
    "news_df = pd.read_csv(filename)\n",
    "X = news_df.TITLE\n",
    "y = news_df.CATEGORY\n",
    "\n",
    "# X_train, X_test, y_train, y_test = train_test_split(X, y, random_state=1)\n",
    "# vect = CountVectorizer()\n",
    "\n",
    "# X_train_dtm = vect.fit_transform(X_train) \n",
    "# X_test_dtm = vect.transform(X_test)\n",
    "\n",
    "# nb = MultinomialNB()\n",
    "# nb.fit(X_train_dtm, y_train)\n",
    "# y_pred_class = nb.predict(X_test_dtm)  \n",
    "\n",
    "# print('General Accuracy:', metrics.accuracy_score(y_test, y_pred_class)) "
   ]
  },
  {
   "cell_type": "code",
   "execution_count": 11,
   "metadata": {
    "collapsed": false,
    "scrolled": true
   },
   "outputs": [
    {
     "ename": "IntegrityError",
     "evalue": "NOT NULL constraint failed: crypto_feeddetail.feed_url_id",
     "output_type": "error",
     "traceback": [
      "\u001b[0;31m-----------------------------------------------------------\u001b[0m",
      "\u001b[0;31mIntegrityError\u001b[0m            Traceback (most recent call last)",
      "\u001b[0;32m<ipython-input-11-7ea0d87b2274>\u001b[0m in \u001b[0;36m<module>\u001b[0;34m()\u001b[0m\n\u001b[1;32m     13\u001b[0m \u001b[0;32mfor\u001b[0m \u001b[0mi\u001b[0m \u001b[0;32min\u001b[0m \u001b[0mrange\u001b[0m\u001b[0;34m(\u001b[0m\u001b[0mmin_primary_key\u001b[0m\u001b[0;34m,\u001b[0m \u001b[0mmax_primary_key\u001b[0m\u001b[0;34m+\u001b[0m\u001b[0;36m1\u001b[0m\u001b[0;34m)\u001b[0m\u001b[0;34m:\u001b[0m\u001b[0;34m\u001b[0m\u001b[0m\n\u001b[1;32m     14\u001b[0m     c.execute(\"INSERT INTO crypto_feeddetail (id, category) VALUES (?, ?)\",\n\u001b[0;32m---> 15\u001b[0;31m               (i, y_pred_class[i]))\n\u001b[0m\u001b[1;32m     16\u001b[0m     \u001b[0mconn\u001b[0m\u001b[0;34m.\u001b[0m\u001b[0mcommit\u001b[0m\u001b[0;34m(\u001b[0m\u001b[0;34m)\u001b[0m\u001b[0;34m\u001b[0m\u001b[0m\n\u001b[1;32m     17\u001b[0m \u001b[0;34m\u001b[0m\u001b[0m\n",
      "\u001b[0;31mIntegrityError\u001b[0m: NOT NULL constraint failed: crypto_feeddetail.feed_url_id"
     ]
    }
   ],
   "source": [
    "X_train_dtm = vect.fit_transform(X)\n",
    "nb = MultinomialNB()\n",
    "nb.fit(X_train_dtm, y)\n",
    "X_test_dtm = vect.transform(feed_list)\n",
    "y_pred_class = nb.predict(X_test_dtm)  \n",
    "\n",
    "c.execute('SELECT MIN(id) FROM crypto_feeddetail')\n",
    "min_primary_key = c.fetchone()\n",
    "min_primary_key = min_primary_key[0]\n",
    "c.execute('SELECT MAX(id) FROM crypto_feeddetail')\n",
    "max_primary_key = c.fetchone()\n",
    "max_primary_key = max_primary_key[0]\n",
    "for i in range(min_primary_key, max_primary_key+1):\n",
    "    c.execute(\"INSERT INTO crypto_feeddetail (id, category) VALUES (?, ?)\",\n",
    "              (i, y_pred_class[i]))\n",
    "    conn.commit()\n",
    "\n",
    "\n",
    "\n",
    "# for i in range(len(y_pred_class)):\n",
    "#     print(feed_list[i], y_pred_class[i])\n",
    "\n",
    "\n"
   ]
  },
  {
   "cell_type": "code",
   "execution_count": null,
   "metadata": {
    "collapsed": true
   },
   "outputs": [],
   "source": []
  }
 ],
 "metadata": {
  "anaconda-cloud": {},
  "kernelspec": {
   "display_name": "Python [conda root]",
   "language": "python",
   "name": "conda-root-py"
  },
  "language_info": {
   "codemirror_mode": {
    "name": "ipython",
    "version": 3
   },
   "file_extension": ".py",
   "mimetype": "text/x-python",
   "name": "python",
   "nbconvert_exporter": "python",
   "pygments_lexer": "ipython3",
   "version": "3.5.2"
  }
 },
 "nbformat": 4,
 "nbformat_minor": 2
}
